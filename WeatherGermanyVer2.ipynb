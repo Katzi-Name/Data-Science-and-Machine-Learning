{
 "cells": [
  {
   "cell_type": "code",
   "execution_count": 2,
   "id": "926dd82b-15be-40a7-9aed-1bc6c8e7e4f3",
   "metadata": {},
   "outputs": [
    {
     "name": "stdout",
     "output_type": "stream",
     "text": [
      "    Stadt       Datum  Temperatur_C  Gefuehlte_Temperatur_C  Niederschlag_mm  \\\n",
      "0  Berlin  2015-01-01          -1.0                    -2.0              0.0   \n",
      "1  Berlin  2015-01-02           3.1                     3.1              0.0   \n",
      "2  Berlin  2015-01-03           4.4                     6.1              0.0   \n",
      "3  Berlin  2015-01-04           2.6                     3.4              2.0   \n",
      "4  Berlin  2015-01-05           9.7                     8.8              0.2   \n",
      "\n",
      "   Regen  Schnee  Wind_kmh Windrichtung  \n",
      "0  False   False      20.5           NE  \n",
      "1  False   False      16.3           NW  \n",
      "2  False   False      23.8            E  \n",
      "3   True   False      18.1           NW  \n",
      "4   True   False      12.0           SW  \n",
      "Datei 'synthetisches_wetter_deutschland.csv' wurde erfolgreich erstellt.\n"
     ]
    }
   ],
   "source": [
    "import pandas as pd\n",
    "import numpy as np\n",
    "from datetime import datetime, timedelta\n",
    "import random\n",
    "\n",
    "# Städte in Deutschland\n",
    "cities = [\n",
    "    \"Berlin\", \"Hamburg\", \"München\", \"Köln\", \"Frankfurt\", \n",
    "    \"Stuttgart\", \"Düsseldorf\", \"Dortmund\", \"Essen\", \"Leipzig\"\n",
    "]\n",
    "\n",
    "# Zeitraum: Letzte 10 Jahre (täglich)\n",
    "start_date = datetime(2015, 1, 1)\n",
    "end_date = datetime(2024, 12, 31)\n",
    "date_range = pd.date_range(start=start_date, end=end_date, freq='D')\n",
    "\n",
    "# Windrichtungen\n",
    "wind_directions = [\"N\", \"NE\", \"E\", \"SE\", \"S\", \"SW\", \"W\", \"NW\"]\n",
    "\n",
    "# Funktion zur Generierung synthetischer Wetterdaten\n",
    "def generate_weather_data():\n",
    "    data = []\n",
    "\n",
    "    for city in cities:\n",
    "        for date in date_range:\n",
    "            month = date.month\n",
    "\n",
    "            # Jahreszeitabhängige Temperatur\n",
    "            if month in [12, 1, 2]:      # Winter\n",
    "                temp = np.random.normal(1, 5)\n",
    "            elif month in [3, 4, 5]:     # Frühling\n",
    "                temp = np.random.normal(10, 5)\n",
    "            elif month in [6, 7, 8]:     # Sommer\n",
    "                temp = np.random.normal(20, 5)\n",
    "            else:                        # Herbst\n",
    "                temp = np.random.normal(10, 5)\n",
    "\n",
    "            # Abgeleitete Daten\n",
    "            feels_like = temp + np.random.normal(0, 2)\n",
    "            precipitation = max(0, np.random.exponential(1.5) if random.random() < 0.3 else 0)\n",
    "            rain = precipitation > 0 and temp > 1\n",
    "            snow = precipitation > 0 and temp <= 1\n",
    "            wind_speed = np.random.normal(15, 5)\n",
    "            wind_dir = random.choice(wind_directions)\n",
    "\n",
    "            data.append({\n",
    "                \"Stadt\": city,\n",
    "                \"Datum\": date.strftime(\"%Y-%m-%d\"),\n",
    "                \"Temperatur_C\": round(temp, 1),\n",
    "                \"Gefuehlte_Temperatur_C\": round(feels_like, 1),\n",
    "                \"Niederschlag_mm\": round(precipitation, 1),\n",
    "                \"Regen\": rain,\n",
    "                \"Schnee\": snow,\n",
    "                \"Wind_kmh\": round(max(0, wind_speed), 1),\n",
    "                \"Windrichtung\": wind_dir\n",
    "            })\n",
    "\n",
    "    return pd.DataFrame(data)\n",
    "\n",
    "# Daten generieren\n",
    "df = generate_weather_data()\n",
    "\n",
    "# Vorschau\n",
    "print(df.head())\n",
    "\n",
    "# Als CSV speichern\n",
    "df.to_csv(\"synthetisches_wetter_deutschland.csv\", index=False)\n",
    "print(\"Datei 'synthetisches_wetter_deutschland.csv' wurde erfolgreich erstellt.\")"
   ]
  },
  {
   "cell_type": "code",
   "execution_count": 4,
   "id": "7bd05067-b657-4cc5-aed0-6d80178c3a99",
   "metadata": {},
   "outputs": [
    {
     "name": "stdout",
     "output_type": "stream",
     "text": [
      "MAE für Wetterprognose: 3.54 🌡️\n",
      "\n",
      "📍 Stadt: Berlin, 📅 Datum: 2025-03-25\n",
      "🌡️ Temperatur: 9.5°C, Gefühlte: 9.6°C\n",
      "🌧️ Niederschlag: 0.1 mm, 💨 Wind: 15.3 km/h\n",
      "🗯️ Kommentar: ☀️ Schönes Wetter!\n"
     ]
    }
   ],
   "source": [
    "import pandas as pd\n",
    "import numpy as np\n",
    "from sklearn.ensemble import RandomForestRegressor\n",
    "from sklearn.preprocessing import LabelEncoder\n",
    "from sklearn.model_selection import train_test_split\n",
    "from sklearn.metrics import mean_absolute_error\n",
    "import datetime\n",
    "\n",
    "# 1. CSV einlesen\n",
    "df = pd.read_csv(\"synthetisches_wetter_deutschland.csv\")\n",
    "\n",
    "# 2. Feature Engineering\n",
    "df['Datum'] = pd.to_datetime(df['Datum'])\n",
    "df['Jahr'] = df['Datum'].dt.year\n",
    "df['Monat'] = df['Datum'].dt.month\n",
    "df['Tag'] = df['Datum'].dt.day\n",
    "\n",
    "# Stadt als Zahl encodieren\n",
    "le_stadt = LabelEncoder()\n",
    "df['Stadt_encoded'] = le_stadt.fit_transform(df['Stadt'])\n",
    "\n",
    "# Zielvariablen\n",
    "targets = ['Temperatur_C', 'Gefuehlte_Temperatur_C', 'Niederschlag_mm', 'Wind_kmh']\n",
    "\n",
    "# Eingabefeatures\n",
    "X = df[['Stadt_encoded', 'Jahr', 'Monat', 'Tag']]\n",
    "y = df[targets]\n",
    "\n",
    "# 3. Train/Test Split\n",
    "X_train, X_test, y_train, y_test = train_test_split(X, y, test_size=0.2, random_state=42)\n",
    "\n",
    "# 4. Modell trainieren\n",
    "model = RandomForestRegressor(n_estimators=100, random_state=42)\n",
    "model.fit(X_train, y_train)\n",
    "\n",
    "# 5. Modellbewertung\n",
    "y_pred = model.predict(X_test)\n",
    "mae = mean_absolute_error(y_test, y_pred)\n",
    "print(f\"MAE für Wetterprognose: {mae:.2f} 🌡️\")\n",
    "\n",
    "# 6. Wetter vorhersagen + Kommentar generieren\n",
    "def vorhersage(stadt_name, datum_str):\n",
    "    datum = pd.to_datetime(datum_str)\n",
    "    eingabe = pd.DataFrame({\n",
    "        \"Stadt_encoded\": [le_stadt.transform([stadt_name])[0]],\n",
    "        \"Jahr\": [datum.year],\n",
    "        \"Monat\": [datum.month],\n",
    "        \"Tag\": [datum.day]\n",
    "    })\n",
    "\n",
    "    prognose = model.predict(eingabe)[0]\n",
    "    temp, feels_like, rain, wind = prognose\n",
    "\n",
    "    # Lustiger Kommentar basierend auf Wetter\n",
    "    kommentar = \"☀️ Schönes Wetter!\"\n",
    "    if temp < 0:\n",
    "        kommentar = \"❄️ Frostiger Tag! Zeit für Glühwein?\"\n",
    "    elif rain > 5:\n",
    "        kommentar = \"☔ Bring deinen Regenschirm mit!\"\n",
    "    elif wind > 30:\n",
    "        kommentar = \"💨 Achtung, stürmisch heute!\"\n",
    "\n",
    "    # Ausgabe\n",
    "    print(f\"\\n📍 Stadt: {stadt_name}, 📅 Datum: {datum_str}\")\n",
    "    print(f\"🌡️ Temperatur: {temp:.1f}°C, Gefühlte: {feels_like:.1f}°C\")\n",
    "    print(f\"🌧️ Niederschlag: {rain:.1f} mm, 💨 Wind: {wind:.1f} km/h\")\n",
    "    print(f\"🗯️ Kommentar: {kommentar}\")\n",
    "\n",
    "# 7. Beispiel verwenden\n",
    "vorhersage(\"Berlin\", \"2025-03-25\")\n"
   ]
  },
  {
   "cell_type": "code",
   "execution_count": 6,
   "id": "151edc09-0504-4f34-b614-5c49ecb7a55c",
   "metadata": {},
   "outputs": [
    {
     "name": "stdout",
     "output_type": "stream",
     "text": [
      "\n",
      "📈 Modellbewertung:\n",
      "🔹 MAE:  3.54\n",
      "🔹 RMSE: 4.89\n",
      "🔹 R²:   0.184\n"
     ]
    }
   ],
   "source": [
    "from sklearn.metrics import mean_squared_error, r2_score\n",
    "\n",
    "# 5.1 Erweiterte Modellbewertung\n",
    "def bewertung(y_true, y_pred):\n",
    "    mae = mean_absolute_error(y_true, y_pred)\n",
    "    rmse = np.sqrt(mean_squared_error(y_true, y_pred))\n",
    "    r2 = r2_score(y_true, y_pred)\n",
    "\n",
    "    print(\"\\n📈 Modellbewertung:\")\n",
    "    print(f\"🔹 MAE:  {mae:.2f}\")\n",
    "    print(f\"🔹 RMSE: {rmse:.2f}\")\n",
    "    print(f\"🔹 R²:   {r2:.3f}\")\n",
    "\n",
    "# Aufrufen für gesamtes Modell\n",
    "bewertung(y_test, y_pred)\n"
   ]
  },
  {
   "cell_type": "code",
   "execution_count": 9,
   "id": "a4f89e47-63d4-4b04-9034-10624453dfdd",
   "metadata": {},
   "outputs": [
    {
     "name": "stdout",
     "output_type": "stream",
     "text": [
      "\n",
      "🔍 Bewertung für: Temperatur_C\n",
      "\n",
      "📈 Modellbewertung:\n",
      "🔹 MAE:  4.43\n",
      "🔹 RMSE: 5.53\n",
      "🔹 R²:   0.568\n",
      "\n",
      "🔍 Bewertung für: Gefuehlte_Temperatur_C\n",
      "\n",
      "📈 Modellbewertung:\n",
      "🔹 MAE:  4.73\n",
      "🔹 RMSE: 5.93\n",
      "🔹 R²:   0.528\n",
      "\n",
      "🔍 Bewertung für: Niederschlag_mm\n",
      "\n",
      "📈 Modellbewertung:\n",
      "🔹 MAE:  0.71\n",
      "🔹 RMSE: 1.14\n",
      "🔹 R²:   -0.183\n",
      "\n",
      "🔍 Bewertung für: Wind_kmh\n",
      "\n",
      "📈 Modellbewertung:\n",
      "🔹 MAE:  4.29\n",
      "🔹 RMSE: 5.36\n",
      "🔹 R²:   -0.179\n"
     ]
    }
   ],
   "source": [
    "for i, ziel in enumerate(targets):\n",
    "    print(f\"\\n🔍 Bewertung für: {ziel}\")\n",
    "    bewertung(y_test.iloc[:, i], y_pred[:, i])\n"
   ]
  },
  {
   "cell_type": "code",
   "execution_count": 12,
   "id": "6ec1836f-79d2-462c-8cd6-11b63720e787",
   "metadata": {},
   "outputs": [],
   "source": [
    "from sklearn.ensemble import RandomForestRegressor\n",
    "model = RandomForestRegressor(n_estimators=100, random_state=42)\n"
   ]
  },
  {
   "cell_type": "code",
   "execution_count": 14,
   "id": "89207155-2c71-42c1-b4aa-66d35a255957",
   "metadata": {},
   "outputs": [],
   "source": [
    "# Datum als datetime interpretieren\n",
    "df['Datum'] = pd.to_datetime(df['Datum'])\n",
    "\n",
    "# Neue Features aus Datum\n",
    "df['Monat'] = df['Datum'].dt.month\n",
    "df['Wochentag'] = df['Datum'].dt.weekday\n",
    "df['Jahreszeit'] = df['Monat'] % 12 // 3 + 1  # 1: Winter, 2: Frühling, 3: Sommer, 4: Herbst\n"
   ]
  },
  {
   "cell_type": "code",
   "execution_count": 16,
   "id": "4b40f911-b232-447e-acfd-9a09c356b630",
   "metadata": {},
   "outputs": [
    {
     "name": "stdout",
     "output_type": "stream",
     "text": [
      "📈 Neue Modellbewertung (Random Forest):\n",
      "🔹 MAE:  1.54\n",
      "🔹 RMSE: 1.95\n",
      "🔹 R²:   0.947\n"
     ]
    }
   ],
   "source": [
    "from sklearn.ensemble import RandomForestRegressor\n",
    "from sklearn.model_selection import train_test_split\n",
    "from sklearn.metrics import mean_absolute_error, mean_squared_error, r2_score\n",
    "import numpy as np\n",
    "\n",
    "# Merkmale & Ziel\n",
    "features = ['Gefuehlte_Temperatur_C', 'Niederschlag_mm', 'Wind_kmh', \n",
    "            'Regen', 'Schnee', 'Monat', 'Wochentag', 'Jahreszeit']\n",
    "target = 'Temperatur_C'\n",
    "\n",
    "X = df[features]\n",
    "y = df[target]\n",
    "\n",
    "# Trainings- und Testdaten\n",
    "X_train, X_test, y_train, y_test = train_test_split(X, y, test_size=0.2, random_state=42)\n",
    "\n",
    "# Random Forest Modell\n",
    "model = RandomForestRegressor(n_estimators=100, random_state=42)\n",
    "model.fit(X_train, y_train)\n",
    "\n",
    "# Vorhersage & Bewertung\n",
    "y_pred = model.predict(X_test)\n",
    "\n",
    "mae = mean_absolute_error(y_test, y_pred)\n",
    "rmse = np.sqrt(mean_squared_error(y_test, y_pred))\n",
    "r2 = r2_score(y_test, y_pred)\n",
    "\n",
    "print(\"📈 Neue Modellbewertung (Random Forest):\")\n",
    "print(f\"🔹 MAE:  {mae:.2f}\")\n",
    "print(f\"🔹 RMSE: {rmse:.2f}\")\n",
    "print(f\"🔹 R²:   {r2:.3f}\")\n"
   ]
  },
  {
   "cell_type": "code",
   "execution_count": 18,
   "id": "37a7c278-ee29-4da4-98fa-18a7fa589d25",
   "metadata": {},
   "outputs": [
    {
     "name": "stdout",
     "output_type": "stream",
     "text": [
      "📍 Stadt: Berlin, 📅 Datum: 2025-04-15\n",
      "🌡️ Vorhergesagte Temperatur: 9.89 °C\n",
      "💬 Kommentar: 🧥 Kalt! Vielleicht ein Tee?\n"
     ]
    }
   ],
   "source": [
    "import random\n",
    "\n",
    "def wetter_kommentar(temp):\n",
    "    if temp < 0:\n",
    "        return \"🥶 Brrr, zieh dich warm an!\"\n",
    "    elif temp < 10:\n",
    "        return \"🧥 Kalt! Vielleicht ein Tee?\"\n",
    "    elif temp < 20:\n",
    "        return \"🌤 Frisch, aber okay!\"\n",
    "    elif temp < 30:\n",
    "        return \"☀️ Perfektes Wetter für draußen!\"\n",
    "    else:\n",
    "        return \"🔥 Hitzefrei gefällig?\"\n",
    "\n",
    "def vorhersage(stadt, datum_str):\n",
    "    datum = pd.to_datetime(datum_str)\n",
    "    stadt_df = df[df['Stadt'] == stadt]\n",
    "\n",
    "    # Mittelwerte der anderen Features aus der Stadt für das gegebene Datum\n",
    "    input_data = {\n",
    "        'Gefuehlte_Temperatur_C': stadt_df['Gefuehlte_Temperatur_C'].mean(),\n",
    "        'Niederschlag_mm': stadt_df['Niederschlag_mm'].mean(),\n",
    "        'Wind_kmh': stadt_df['Wind_kmh'].mean(),\n",
    "        'Regen': random.choice([0, 1]),\n",
    "        'Schnee': random.choice([0, 1]),\n",
    "        'Monat': datum.month,\n",
    "        'Wochentag': datum.weekday(),\n",
    "        'Jahreszeit': datum.month % 12 // 3 + 1\n",
    "    }\n",
    "\n",
    "    # Umwandeln in DataFrame für Modell\n",
    "    input_df = pd.DataFrame([input_data])\n",
    "    prediction = model.predict(input_df)[0]\n",
    "\n",
    "    kommentar = wetter_kommentar(prediction)\n",
    "    print(f\"📍 Stadt: {stadt}, 📅 Datum: {datum.date()}\")\n",
    "    print(f\"🌡️ Vorhergesagte Temperatur: {prediction:.2f} °C\")\n",
    "    print(f\"💬 Kommentar: {kommentar}\")\n",
    "\n",
    "# Beispiel:\n",
    "vorhersage(\"Berlin\", \"2025-04-15\")\n"
   ]
  },
  {
   "cell_type": "code",
   "execution_count": 20,
   "id": "b27bef96-ca1e-4e73-8205-59ab26c8e093",
   "metadata": {},
   "outputs": [
    {
     "name": "stdout",
     "output_type": "stream",
     "text": [
      "📍 Stadt: Leipzig, 📅 Datum: 2025-07-15\n",
      "🌡️ Vorhergesagte Temperatur: 11.19 °C\n",
      "💬 Kommentar: 🌤 Frisch, aber okay!\n"
     ]
    }
   ],
   "source": [
    "vorhersage(\"Leipzig\", \"2025-07-15\")"
   ]
  },
  {
   "cell_type": "code",
   "execution_count": null,
   "id": "084e1536-45e6-4dcf-bb68-7ae31e7f93d8",
   "metadata": {},
   "outputs": [],
   "source": []
  }
 ],
 "metadata": {
  "kernelspec": {
   "display_name": "Python [conda env:base] *",
   "language": "python",
   "name": "conda-base-py"
  },
  "language_info": {
   "codemirror_mode": {
    "name": "ipython",
    "version": 3
   },
   "file_extension": ".py",
   "mimetype": "text/x-python",
   "name": "python",
   "nbconvert_exporter": "python",
   "pygments_lexer": "ipython3",
   "version": "3.12.7"
  }
 },
 "nbformat": 4,
 "nbformat_minor": 5
}
